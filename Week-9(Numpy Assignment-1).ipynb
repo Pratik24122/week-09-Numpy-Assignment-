{
 "cells": [
  {
   "cell_type": "code",
   "execution_count": 4,
   "id": "a4860b1c-bf34-487c-b096-02bb5995de6b",
   "metadata": {},
   "outputs": [],
   "source": [
    "import numpy as np\n",
    "list_ = [ '1' , '2' , '3' , '4' , '5' ]\n",
    "array_list = np.array(object = list_)"
   ]
  },
  {
   "cell_type": "markdown",
   "id": "9ee7bb5a-e437-4666-adf4-a94f68cc9bd5",
   "metadata": {},
   "source": [
    "Q1"
   ]
  },
  {
   "cell_type": "code",
   "execution_count": 6,
   "id": "597836b9-1b08-4325-8312-d4c6b72bea56",
   "metadata": {},
   "outputs": [
    {
     "name": "stdout",
     "output_type": "stream",
     "text": [
      "Data type of list_ variable is <class 'list'>.\n",
      "Data type of array_list variable is <class 'numpy.ndarray'>.\n"
     ]
    }
   ],
   "source": [
    "print(f\"Data type of list_ variable is {type(list_)}.\")\n",
    "print(f\"Data type of array_list variable is {type(array_list)}.\")"
   ]
  },
  {
   "cell_type": "markdown",
   "id": "050bd5cf-bce1-4003-be82-ead96f8cf565",
   "metadata": {},
   "source": [
    "Q2"
   ]
  },
  {
   "cell_type": "code",
   "execution_count": 14,
   "id": "1e191b76-8440-41f8-ae15-9e80a8c76bfc",
   "metadata": {},
   "outputs": [
    {
     "name": "stdout",
     "output_type": "stream",
     "text": [
      "Datatype of 1 : <class 'str'>.\n",
      "Datatype of 2 : <class 'str'>.\n",
      "Datatype of 3 : <class 'str'>.\n",
      "Datatype of 4 : <class 'str'>.\n",
      "Datatype of 5 : <class 'str'>.\n",
      "Data type of 1 : <class 'numpy.str_'>.\n",
      "Data type of 2 : <class 'numpy.str_'>.\n",
      "Data type of 3 : <class 'numpy.str_'>.\n",
      "Data type of 4 : <class 'numpy.str_'>.\n",
      "Data type of 5 : <class 'numpy.str_'>.\n"
     ]
    }
   ],
   "source": [
    "for elem in list_:\n",
    "    print(f'Datatype of {elem} : {type(elem)}.')\n",
    "                                \n",
    "for elem in array_list:\n",
    "    print(f'Data type of {elem} : {type(elem)}.')"
   ]
  },
  {
   "cell_type": "code",
   "execution_count": 15,
   "id": "d68332e8-da36-4344-b0de-6654e9c86087",
   "metadata": {},
   "outputs": [],
   "source": [
    "array_list = np.array(object = list_, dtype = int)"
   ]
  },
  {
   "cell_type": "markdown",
   "id": "c22e040d-8796-4b15-be4c-3c7a80cec5c7",
   "metadata": {},
   "source": [
    "Q3"
   ]
  },
  {
   "cell_type": "code",
   "execution_count": 17,
   "id": "4631801d-a56f-4d0f-9329-1c45488dd63e",
   "metadata": {},
   "outputs": [
    {
     "name": "stdout",
     "output_type": "stream",
     "text": [
      "Datatype of 1 : <class 'str'>.\n",
      "Datatype of 2 : <class 'str'>.\n",
      "Datatype of 3 : <class 'str'>.\n",
      "Datatype of 4 : <class 'str'>.\n",
      "Datatype of 5 : <class 'str'>.\n",
      "Datatype of 1 : <class 'numpy.int64'>.\n",
      "Datatype of 2 : <class 'numpy.int64'>.\n",
      "Datatype of 3 : <class 'numpy.int64'>.\n",
      "Datatype of 4 : <class 'numpy.int64'>.\n",
      "Datatype of 5 : <class 'numpy.int64'>.\n"
     ]
    }
   ],
   "source": [
    "for i in list_:\n",
    "    print(f'Datatype of {i} : {type(i)}.')\n",
    "                                \n",
    "for i in array_list:\n",
    "    print(f\"Datatype of {i} : {type(i)}.\")"
   ]
  },
  {
   "cell_type": "code",
   "execution_count": 18,
   "id": "8f5b6346-7b28-4bfe-afeb-c4155d18e470",
   "metadata": {},
   "outputs": [],
   "source": [
    "import numpy as np\n",
    "num_list = [ [ 1 , 2 , 3 ] , [ 4 , 5 , 6 ] ]\n",
    "num_array = np.array(object = num_list)"
   ]
  },
  {
   "cell_type": "markdown",
   "id": "fe898db0-0e3b-4224-b5a8-20282a2d260f",
   "metadata": {},
   "source": [
    "Q4"
   ]
  },
  {
   "cell_type": "code",
   "execution_count": 20,
   "id": "b1262ad7-d4ca-4bd1-b752-84ce09ca0fb0",
   "metadata": {},
   "outputs": [
    {
     "data": {
      "text/plain": [
       "6"
      ]
     },
     "execution_count": 20,
     "metadata": {},
     "output_type": "execute_result"
    }
   ],
   "source": [
    "num_array.size"
   ]
  },
  {
   "cell_type": "code",
   "execution_count": 21,
   "id": "a411089f-9dac-41a5-a6c2-bf8f77f549e0",
   "metadata": {},
   "outputs": [
    {
     "data": {
      "text/plain": [
       "(2, 3)"
      ]
     },
     "execution_count": 21,
     "metadata": {},
     "output_type": "execute_result"
    }
   ],
   "source": [
    "num_array.shape"
   ]
  },
  {
   "cell_type": "markdown",
   "id": "8eed941f-fac9-4d4c-9c9e-66a9cff38624",
   "metadata": {},
   "source": [
    "Q5"
   ]
  },
  {
   "cell_type": "code",
   "execution_count": 22,
   "id": "ed0c0188-5080-4e50-adac-de34b0569118",
   "metadata": {},
   "outputs": [
    {
     "data": {
      "text/plain": [
       "array([[0., 0., 0.],\n",
       "       [0., 0., 0.],\n",
       "       [0., 0., 0.]])"
      ]
     },
     "execution_count": 22,
     "metadata": {},
     "output_type": "execute_result"
    }
   ],
   "source": [
    "np.zeros((3,3))"
   ]
  },
  {
   "cell_type": "markdown",
   "id": "ab12d0e1-6e90-43d2-a352-d505b832af9b",
   "metadata": {},
   "source": [
    "Q6"
   ]
  },
  {
   "cell_type": "code",
   "execution_count": 24,
   "id": "e284e3c8-faea-4068-a77f-cfe19d86f21e",
   "metadata": {},
   "outputs": [
    {
     "data": {
      "text/plain": [
       "array([[1., 0., 0., 0., 0.],\n",
       "       [0., 1., 0., 0., 0.],\n",
       "       [0., 0., 1., 0., 0.],\n",
       "       [0., 0., 0., 1., 0.],\n",
       "       [0., 0., 0., 0., 1.]])"
      ]
     },
     "execution_count": 24,
     "metadata": {},
     "output_type": "execute_result"
    }
   ],
   "source": [
    "np.eye(5)"
   ]
  },
  {
   "cell_type": "code",
   "execution_count": null,
   "id": "8cf85bde-2846-4e6c-b755-96e947fe9638",
   "metadata": {},
   "outputs": [],
   "source": []
  }
 ],
 "metadata": {
  "kernelspec": {
   "display_name": "Python 3 (ipykernel)",
   "language": "python",
   "name": "python3"
  },
  "language_info": {
   "codemirror_mode": {
    "name": "ipython",
    "version": 3
   },
   "file_extension": ".py",
   "mimetype": "text/x-python",
   "name": "python",
   "nbconvert_exporter": "python",
   "pygments_lexer": "ipython3",
   "version": "3.10.8"
  }
 },
 "nbformat": 4,
 "nbformat_minor": 5
}
